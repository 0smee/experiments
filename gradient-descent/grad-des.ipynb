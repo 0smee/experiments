{
 "cells": [
  {
   "cell_type": "code",
   "execution_count": 3,
   "metadata": {},
   "outputs": [
    {
     "data": {
      "text/html": [
       "<div>\n",
       "<style scoped>\n",
       "    .dataframe tbody tr th:only-of-type {\n",
       "        vertical-align: middle;\n",
       "    }\n",
       "\n",
       "    .dataframe tbody tr th {\n",
       "        vertical-align: top;\n",
       "    }\n",
       "\n",
       "    .dataframe thead th {\n",
       "        text-align: right;\n",
       "    }\n",
       "</style>\n",
       "<table border=\"1\" class=\"dataframe\">\n",
       "  <thead>\n",
       "    <tr style=\"text-align: right;\">\n",
       "      <th></th>\n",
       "      <th>TV</th>\n",
       "      <th>radio</th>\n",
       "      <th>newspaper</th>\n",
       "      <th>sales</th>\n",
       "    </tr>\n",
       "  </thead>\n",
       "  <tbody>\n",
       "    <tr>\n",
       "      <th>1</th>\n",
       "      <td>230.1</td>\n",
       "      <td>37.8</td>\n",
       "      <td>69.2</td>\n",
       "      <td>22.1</td>\n",
       "    </tr>\n",
       "    <tr>\n",
       "      <th>2</th>\n",
       "      <td>44.5</td>\n",
       "      <td>39.3</td>\n",
       "      <td>45.1</td>\n",
       "      <td>10.4</td>\n",
       "    </tr>\n",
       "    <tr>\n",
       "      <th>3</th>\n",
       "      <td>17.2</td>\n",
       "      <td>45.9</td>\n",
       "      <td>69.3</td>\n",
       "      <td>9.3</td>\n",
       "    </tr>\n",
       "    <tr>\n",
       "      <th>4</th>\n",
       "      <td>151.5</td>\n",
       "      <td>41.3</td>\n",
       "      <td>58.5</td>\n",
       "      <td>18.5</td>\n",
       "    </tr>\n",
       "    <tr>\n",
       "      <th>5</th>\n",
       "      <td>180.8</td>\n",
       "      <td>10.8</td>\n",
       "      <td>58.4</td>\n",
       "      <td>12.9</td>\n",
       "    </tr>\n",
       "  </tbody>\n",
       "</table>\n",
       "</div>"
      ],
      "text/plain": [
       "      TV  radio  newspaper  sales\n",
       "1  230.1   37.8       69.2   22.1\n",
       "2   44.5   39.3       45.1   10.4\n",
       "3   17.2   45.9       69.3    9.3\n",
       "4  151.5   41.3       58.5   18.5\n",
       "5  180.8   10.8       58.4   12.9"
      ]
     },
     "execution_count": 3,
     "metadata": {},
     "output_type": "execute_result"
    }
   ],
   "source": [
    "import pandas as pd\n",
    "import numpy as np\n",
    "import matplotlib.pyplot as plt\n",
    "import seaborn as sns\n",
    "df=pd.read_csv('Advertising.csv', index_col=0)\n",
    "df.head()"
   ]
  },
  {
   "cell_type": "code",
   "execution_count": 35,
   "metadata": {},
   "outputs": [],
   "source": [
    "X = df.drop(columns=\"sales\").values\n",
    "y = df[\"sales\"]"
   ]
  },
  {
   "cell_type": "code",
   "execution_count": 39,
   "metadata": {},
   "outputs": [],
   "source": [
    "# for linear regression we need to add an intercept\n",
    "X = np.hstack((np.ones((X.shape[0], 1)), X))"
   ]
  },
  {
   "cell_type": "code",
   "execution_count": 58,
   "metadata": {},
   "outputs": [],
   "source": [
    "def mse(features, target, params):\n",
    "    predictions = np.dot(features, params)\n",
    "    return np.mean((target - predictions) ** 2)"
   ]
  },
  {
   "cell_type": "code",
   "execution_count": 62,
   "metadata": {},
   "outputs": [],
   "source": [
    "def numerical_gradient(cost_function, params, features, target, h=1e-4):\n",
    "    grad = np.zeros_like(params)\n",
    "    for x in range(len(params)):\n",
    "        original_value = params[x]\n",
    "\n",
    "        # cost at \n",
    "        params[x] = original_value + h\n",
    "        loss_p_h = cost_function(features, target, params)\n",
    "\n",
    "        # cost at [params[x] - h]\n",
    "        params[x] = original_value - h\n",
    "        loss_m_h = cost_function(features, target, params)\n",
    "\n",
    "        # approx gradient\n",
    "        grad[x] = (loss_p_h - loss_m_h) / (2 * h)\n",
    "\n",
    "        # reset parameter value\n",
    "        params[x] = original_value\n",
    "    return grad\n"
   ]
  },
  {
   "cell_type": "code",
   "execution_count": 63,
   "metadata": {},
   "outputs": [],
   "source": [
    "# def quadratic_cost(params, features, target):\n",
    "#     predictions = params * (features ** 2)\n",
    "#     return np.mean((target - predictions) ** 2)\n",
    "# def quadratic_function(x, a=1, b=0, c=0):\n",
    "#     return a * x**2 + b * x + c\n",
    "\n",
    "# def quadratic_derivative(x, a=1, b=0):\n",
    "#     return 2 * a * x + b\n",
    "\n",
    "# features = np.array([1, 2, 3])\n",
    "# target = np.array([1, 4, 9]) \n",
    "# params = np.array([1.0])\n",
    "\n",
    "# numerical_grad = numerical_gradient(quadratic_cost, params, features, target)\n",
    "# print(\"Numerical Gradient:\", numerical_grad)"
   ]
  },
  {
   "cell_type": "code",
   "execution_count": 83,
   "metadata": {},
   "outputs": [],
   "source": [
    "def gd(cost_function, init_params, learning_rate, features, target, max_iterations):\n",
    "    # outputs optimiesed parameters based on a cost function, as well as cost history (should change to oop)\n",
    "    params = np.array(init_params)\n",
    "    costs = list()\n",
    "    for i in range(max_iterations):\n",
    "        gradient = numerical_gradient(cost_function, params, features, target)\n",
    "\n",
    "        # update parameters\n",
    "        params = params - learning_rate * gradient\n",
    "        if i % 5 == 0:\n",
    "            cost = cost_function(features, target, params)\n",
    "            costs.append(cost)\n",
    "            if i % 100==0:\n",
    "                print(f\"Iteration {i}: Cost = {cost}\")\n",
    "            \n",
    "\n",
    "    return params, costs"
   ]
  },
  {
   "cell_type": "code",
   "execution_count": 84,
   "metadata": {},
   "outputs": [
    {
     "name": "stdout",
     "output_type": "stream",
     "text": [
      "Iteration 0: Cost = 73850803.95680815\n",
      "Iteration 100: Cost = 1.2563347951595274e+30\n",
      "Iteration 200: Cost = 1.2563347951595274e+30\n",
      "Iteration 300: Cost = 1.2563347951595274e+30\n",
      "Iteration 400: Cost = 1.2563347951595274e+30\n",
      "Iteration 500: Cost = 1.2563347951595274e+30\n",
      "Iteration 600: Cost = 1.2563347951595274e+30\n",
      "Iteration 700: Cost = 1.2563347951595274e+30\n",
      "Iteration 800: Cost = 1.2563347951595274e+30\n",
      "Iteration 900: Cost = 1.2563347951595274e+30\n"
     ]
    }
   ],
   "source": [
    "# Assuming features (X), target (y) and initial parameters (init_params) are defined\n",
    "init_params = np.zeros(4)\n",
    "optimized_params, cost_history = gd(mse, init_params, 0.01, X, y, 1000)"
   ]
  },
  {
   "cell_type": "code",
   "execution_count": 85,
   "metadata": {},
   "outputs": [
    {
     "data": {
      "text/plain": [
       "array([5.36328071e+10, 6.32450862e+12, 8.04002218e+11, 1.01832612e+12])"
      ]
     },
     "execution_count": 85,
     "metadata": {},
     "output_type": "execute_result"
    }
   ],
   "source": [
    "optimized_params"
   ]
  },
  {
   "cell_type": "code",
   "execution_count": 90,
   "metadata": {},
   "outputs": [
    {
     "data": {
      "text/plain": [
       "<Axes: >"
      ]
     },
     "execution_count": 90,
     "metadata": {},
     "output_type": "execute_result"
    },
    {
     "data": {
      "image/png": "[encoded data removed]",
      "text/plain": [
       "<Figure size 640x480 with 1 Axes>"
      ]
     },
     "metadata": {},
     "output_type": "display_data"
    }
   ],
   "source": [
    "sns.lineplot(cost_history[:3])"
   ]
  },
  {
   "cell_type": "code",
   "execution_count": null,
   "metadata": {},
   "outputs": [],
   "source": []
  }
 ],
 "metadata": {
  "kernelspec": {
   "display_name": "es_capstone",
   "language": "python",
   "name": "python3"
  },
  "language_info": {
   "codemirror_mode": {
    "name": "ipython",
    "version": 3
   },
   "file_extension": ".py",
   "mimetype": "text/x-python",
   "name": "python",
   "nbconvert_exporter": "python",
   "pygments_lexer": "ipython3",
   "version": "3.8.18"
  }
 },
 "nbformat": 4,
 "nbformat_minor": 2
}
